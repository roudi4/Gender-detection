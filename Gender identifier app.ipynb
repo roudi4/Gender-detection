{
 "cells": [
  {
   "cell_type": "code",
   "execution_count": 4,
   "id": "8c0ea2d4",
   "metadata": {},
   "outputs": [],
   "source": [
    "#program for making predictions are starts from here\n",
    "import cv2\n",
    "import tensorflow as tf\n",
    "import matplotlib.pyplot as pit\n",
    "CATEGORIES=['Male', 'Female']\n",
    "#this will take image path in this format i.e desktop/folder/image_name.jpg\n",
    "#convert this image into the grayscale also resize the image into 80x80\n",
    "#it returns the image array of the resized image\n",
    "#this array will be passed in the predict function\n",
    "def prepare(filepath):\n",
    "            IMG_SIZE=80\n",
    "            img_array=cv2. imread (filepath, cv2. IMREAD_GRAYSCALE)\n",
    "            new_array=cv2. resize(img_array, (IMG_SIZE, IMG_SIZE))\n",
    "            #pLt. imshow(img_array)\n",
    "            return new_array.reshape (-1, IMG_SIZE, IMG_SIZE,1)\n",
    "#here we are importing the model in th eprogram\n",
    "model=tf.keras.models. load_model(r'C:\\Users\\pc-hp\\Desktop\\machine learning projects\\men-women-classification\\datasett64x3-CNN.keras')"
   ]
  },
  {
   "cell_type": "code",
   "execution_count": 5,
   "id": "d191033c",
   "metadata": {},
   "outputs": [],
   "source": [
    "from tkinter import *\n",
    "\n",
    "from PIL import Image, ImageTk\n",
    "from tkinter import filedialog\n",
    "import os"
   ]
  },
  {
   "cell_type": "code",
   "execution_count": 7,
   "id": "3297adfc",
   "metadata": {},
   "outputs": [
    {
     "name": "stdout",
     "output_type": "stream",
     "text": [
      "\u001b[1m1/1\u001b[0m \u001b[32m━━━━━━━━━━━━━━━━━━━━\u001b[0m\u001b[37m\u001b[0m \u001b[1m0s\u001b[0m 234ms/step\n",
      "\u001b[1m1/1\u001b[0m \u001b[32m━━━━━━━━━━━━━━━━━━━━\u001b[0m\u001b[37m\u001b[0m \u001b[1m0s\u001b[0m 58ms/step\n"
     ]
    },
    {
     "name": "stderr",
     "output_type": "stream",
     "text": [
      "Exception in Tkinter callback\n",
      "Traceback (most recent call last):\n",
      "  File \"C:\\Users\\pc-hp\\anaconda3\\Lib\\tkinter\\__init__.py\", line 1948, in __call__\n",
      "    return self.func(*args)\n",
      "           ^^^^^^^^^^^^^^^^\n",
      "  File \"C:\\Users\\pc-hp\\AppData\\Local\\Temp\\ipykernel_13088\\155995647.py\", line 35, in gender\n",
      "    prepared_image = prepare(filename)\n",
      "                     ^^^^^^^^^^^^^^^^^\n",
      "  File \"C:\\Users\\pc-hp\\AppData\\Local\\Temp\\ipykernel_13088\\155995647.py\", line 9, in prepare\n",
      "    new_array = cv2.resize(img_array, (IMG_SIZE, IMG_SIZE))\n",
      "                ^^^^^^^^^^^^^^^^^^^^^^^^^^^^^^^^^^^^^^^^^^^\n",
      "cv2.error: OpenCV(4.10.0) D:\\a\\opencv-python\\opencv-python\\opencv\\modules\\imgproc\\src\\resize.cpp:4152: error: (-215:Assertion failed) !ssize.empty() in function 'cv::resize'\n",
      "\n"
     ]
    }
   ],
   "source": [
    "from tkinter import filedialog, Label, Button, Tk\n",
    "from PIL import Image, ImageTk\n",
    "import os\n",
    "import cv2\n",
    "\n",
    "def prepare(filepath):\n",
    "    IMG_SIZE = 80\n",
    "    img_array = cv2.imread(filepath, cv2.IMREAD_GRAYSCALE)\n",
    "    new_array = cv2.resize(img_array, (IMG_SIZE, IMG_SIZE))\n",
    "    return new_array.reshape(-1, IMG_SIZE, IMG_SIZE, 1)\n",
    "\n",
    "# Function to quit the application\n",
    "def quit_app():\n",
    "    root.destroy()\n",
    "\n",
    "# Function to predict gender and update the label\n",
    "def gender():\n",
    "    filename = filedialog.askopenfilename()\n",
    "    \n",
    "    # Update working directory if necessary\n",
    "    try:\n",
    "        os.chdir(os.path.dirname(filename))\n",
    "    except Exception as e:\n",
    "        print(f\"Error changing directory: {e}\")\n",
    "    \n",
    "    # Load and resize the image\n",
    "    image = Image.open(filename)\n",
    "    image = image.resize((250, 250), Image.LANCZOS)  # Replace Image.ANTIALIAS with Image.LANCZOS\n",
    "    photo = ImageTk.PhotoImage(image)\n",
    "    \n",
    "    label_image.config(image=photo)\n",
    "    label_image.image = photo\n",
    "    \n",
    "    # Prepare the image for prediction\n",
    "    prepared_image = prepare(filename)\n",
    "    prediction = model.predict([prepared_image])\n",
    "    predicted_gender = CATEGORIES[int(prediction[0][0])]\n",
    "    \n",
    "    gender_label.config(text=f\"Gender: {predicted_gender}\", fg='red')\n",
    "\n",
    "# Create the main window\n",
    "root = Tk()\n",
    "root.geometry(\"450x350\")\n",
    "root.title(\"Gender Classification App\")\n",
    "root.minsize(450, 350)\n",
    "\n",
    "# Create labels and buttons\n",
    "label_image = Label(root)\n",
    "label_image.pack(pady=25)\n",
    "\n",
    "gender_button = Button(root, text=\"Check Gender\", command=gender)\n",
    "gender_button.place(x=110, y=281)\n",
    "\n",
    "quit_button = Button(root, text=\"Quit\", command=quit_app)\n",
    "quit_button.place(x=250, y=281)\n",
    "\n",
    "gender_label = Label(root)\n",
    "gender_label.pack()\n",
    "\n",
    "# Start the main loop\n",
    "root.mainloop()\n"
   ]
  },
  {
   "cell_type": "code",
   "execution_count": null,
   "id": "91932c24",
   "metadata": {},
   "outputs": [],
   "source": []
  },
  {
   "cell_type": "code",
   "execution_count": null,
   "id": "6398a596",
   "metadata": {},
   "outputs": [],
   "source": []
  }
 ],
 "metadata": {
  "kernelspec": {
   "display_name": "Python 3 (ipykernel)",
   "language": "python",
   "name": "python3"
  },
  "language_info": {
   "codemirror_mode": {
    "name": "ipython",
    "version": 3
   },
   "file_extension": ".py",
   "mimetype": "text/x-python",
   "name": "python",
   "nbconvert_exporter": "python",
   "pygments_lexer": "ipython3",
   "version": "3.11.7"
  }
 },
 "nbformat": 4,
 "nbformat_minor": 5
}
